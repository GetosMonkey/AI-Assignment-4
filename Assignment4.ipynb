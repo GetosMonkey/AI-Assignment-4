{
 "cells": [
  {
   "cell_type": "raw",
   "id": "a1483c2f-a33b-4585-b4e0-b4e79568dd2a",
   "metadata": {},
   "source": [
    "# CSC2042S 2025 \n",
    "## Assignment 3 \n",
    "\n",
    "## Optimisation of a neural network for image classification \n",
    "#### Maryam Abrahams (ABRMAR043)\n",
    "---"
   ]
  },
  {
   "cell_type": "code",
   "execution_count": null,
   "id": "c59b4218-abd5-4be1-ae68-1c9e3f66bd64",
   "metadata": {},
   "outputs": [],
   "source": [
    "# imports and setup \n",
    "\n",
    "import torch \n",
    "import torch.nn as nn \n",
    "import torch.nn.functional as F\n",
    "import matplotlib.pyplot as plt \n",
    "import numpy as np \n",
    "import random\n",
    "import pandas as pd\n",
    "import seaborn as sns\n",
    "\n",
    "# Reproducibility setup\n",
    "SEED = 69\n",
    "torch.manual_seed(SEED)\n",
    "np.random.seed(SEED)\n",
    "random.seed(SEED)\n"
   ]
  },
  {
   "cell_type": "markdown",
   "id": "efe7fc9e-d7f2-43e1-8899-f4941aa3a5d1",
   "metadata": {},
   "source": [
    "## Task 1: Data Processing"
   ]
  },
  {
   "cell_type": "code",
   "execution_count": null,
   "id": "dff462be-42e1-4d81-b3ac-ed05bd930ec2",
   "metadata": {},
   "outputs": [],
   "source": []
  },
  {
   "cell_type": "markdown",
   "id": "b230fd26-6c9f-43d8-b28e-f809818cb26f",
   "metadata": {},
   "source": [
    "## Task 2: Building and Training a Base Model"
   ]
  },
  {
   "cell_type": "code",
   "execution_count": null,
   "id": "4211cbf7-fbb8-4b91-9b4a-9fb025ce2056",
   "metadata": {},
   "outputs": [],
   "source": []
  },
  {
   "cell_type": "markdown",
   "id": "2fb9a91a-e928-488b-a934-9e5c75f39ecf",
   "metadata": {},
   "source": [
    "## Task 3: Hyperparameter Optimization Experiment"
   ]
  },
  {
   "cell_type": "code",
   "execution_count": null,
   "id": "303087e1-df53-4b2d-a23a-7d7820ca0bf0",
   "metadata": {},
   "outputs": [],
   "source": []
  }
 ],
 "metadata": {
  "kernelspec": {
   "display_name": "Python 3 (ipykernel)",
   "language": "python",
   "name": "python3"
  },
  "language_info": {
   "codemirror_mode": {
    "name": "ipython",
    "version": 3
   },
   "file_extension": ".py",
   "mimetype": "text/x-python",
   "name": "python",
   "nbconvert_exporter": "python",
   "pygments_lexer": "ipython3",
   "version": "3.10.5"
  }
 },
 "nbformat": 4,
 "nbformat_minor": 5
}
